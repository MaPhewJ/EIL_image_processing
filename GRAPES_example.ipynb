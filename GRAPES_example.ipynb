{
 "cells": [
  {
   "cell_type": "markdown",
   "metadata": {},
   "source": [
    "## Workflow for 'Graylevel Radial Analysis of Particles in ElectrodeS (GRAPES)'\n",
    "\n",
    "#### In this notebook we look at how the internal grelevel of particles changes during cycling.\n",
    "\n",
    "#### NMC electrode is cycled by charging from 4.0V to 4.4V and then discharging from 4.4V - 4.0V, 3.8V, 2.5V\n",
    "\n",
    "#### The following image processing steps are used:\n",
    "\n",
    "##### - Image Registration using SimpleITK\n",
    "\n",
    "##### - Filtering and Segmentation of active material phase using NLM and thresholding (+ some other morhological operations)\n",
    "\n",
    "##### - Instance segmentation (labelling) of particles consistently between scans using a marker based watershed threshold \n",
    "\n",
    "##### - Analysis of particles using the new GRAPES algorothm"
   ]
  },
  {
   "cell_type": "code",
   "execution_count": 1,
   "metadata": {},
   "outputs": [],
   "source": [
    "# imports\n",
    "\n",
    "import numpy as np\n",
    "import numpy.ma as ma\n",
    "import imageio as io\n",
    "import pandas as pd\n",
    "import matplotlib.pyplot as plt\n",
    "import SimpleITK as sitk\n",
    "from tqdm import tqdm\n",
    "\n",
    "from GRAPES import GRAPES, _grapes_\n",
    "from para_nlm import paranlm\n",
    "\n",
    "from skimage.filters import gaussian\n",
    "from skimage.morphology import cube, erosion, dilation, remove_small_holes\n",
    "from skimage import data, img_as_float\n",
    "from skimage.restoration import denoise_nl_means\n",
    "from skimage.segmentation import watershed\n",
    "from skimage.feature import peak_local_max\n",
    "from skimage.measure import regionprops_table\n",
    "\n",
    "import scipy.ndimage as nd\n",
    "from scipy.ndimage import distance_transform_edt as dist_trans\n"
   ]
  },
  {
   "cell_type": "markdown",
   "metadata": {},
   "source": [
    "## Image Registration is SimpleITK"
   ]
  },
  {
   "cell_type": "code",
   "execution_count": null,
   "metadata": {},
   "outputs": [],
   "source": [
    "# initialise the registration\n",
    "def my_initialisation(fixed_image, moving_image):\n",
    "    initial_transform = sitk.CenteredTransformInitializer(fixed_image, moving_image, sitk.Euler3DTransform(), sitk.CenteredTransformInitializerFilter.GEOMETRY)\n",
    "    reg = sitk.ImageRegistrationMethod()    \n",
    "    reg.SetMetricAsMattesMutualInformation()\n",
    "    reg.SetMetricSamplingStrategy(reg.RANDOM)\n",
    "    reg.SetMetricSamplingPercentage(0.001)\n",
    "    reg.SetInterpolator(sitk.sitkNearestNeighbor)  # This is the least computationally demanding interpolator \n",
    "    reg.SetOptimizerAsExhaustive(numberOfSteps=[0,0,0,8,8,8], stepLength = 1) \n",
    "    reg.SetOptimizerScales([1,1,1,1,1,1])\n",
    "    reg.SetInitialTransform(initial_transform, inPlace=False)\n",
    "    return reg.Execute(fixed_image, moving_image)\n",
    "\n",
    "# defines function that registers 'moving images' to 'fixed_images' with step length = 5\n",
    "def my_registration(fixed_image, moving_image):\n",
    "    reg = sitk.ImageRegistrationMethod()    \n",
    "    reg.SetMetricAsMeanSquares()\n",
    "    reg.SetMetricSamplingStrategy(reg.RANDOM)\n",
    "    reg.SetMetricSamplingPercentage(0.008)\n",
    "    reg.SetInterpolator(sitk.sitkNearestNeighbor)  # This is the least computationally demanding interpolator \n",
    "    reg.SetOptimizerAsGradientDescent(learningRate=1.0, numberOfIterations=1000, convergenceMinimumValue=1e-8, convergenceWindowSize=50)\n",
    "    reg.SetOptimizerScalesFromPhysicalShift()\n",
    "    reg.SetInitialTransform(initial_transform, inPlace=False)\n",
    "    return reg.Execute(fixed_image, moving_image), reg.GetMetricValue()\n",
    "    \n",
    "# this function executes a transformation\n",
    "def resample(image, transform):\n",
    "    # Output image Origin, Spacing, Size, Direction are taken from the reference\n",
    "    # image in this call to Resample\n",
    "    reference_image = image\n",
    "    interpolator = sitk.sitkNearestNeighbor\n",
    "    default_value = 105\n",
    "    return sitk.Resample(image, reference_image, transform, interpolator, default_value)"
   ]
  },
  {
   "cell_type": "code",
   "execution_count": null,
   "metadata": {},
   "outputs": [],
   "source": [
    "scans = []\n",
    "transform_vals = []\n",
    "metric_vals = []\n",
    "\n",
    "fixed_image = sitk.ReadImage(f'H:/data_files_for_grapes/132037/GREY_132037.tif', sitk.sitkFloat32)\n",
    "print(f'\\nFixed Volume is Scan 132037')\n",
    "for scan_num in range(132038,132048,1):\n",
    "    moving_image = sitk.ReadImage(f'H:/data_files_for_grapes/{scan_num}/GREY_{scan_num}.tif', sitk.sitkFloat32)\n",
    "    print(f'\\nMoving Volume is Scan {scan_num}\\n')\n",
    "    initial_transform = my_initialisation(fixed_image, moving_image)\n",
    "    print(f'Initialisation: \\n{initial_transform.GetParameters()}\\n')\n",
    "    initial_transform, test = my_registration(fixed_image, moving_image)\n",
    "    print(f'Registration : \\n{initial_transform.GetParameters()}\\nWith MSE of {test}\\n')\n",
    "    counter = 0\n",
    "    while counter <= 9:\n",
    "        counter += 1\n",
    "        print(f'Iteration {counter}:')\n",
    "        transform_x, test_x = my_registration(fixed_image, moving_image)\n",
    "        if test > test_x:\n",
    "            print(f'Transform Improves Metric:\\n {transform_x.GetParameters()}')\n",
    "            test = test_x\n",
    "            initial_transform = transform_x\n",
    "        else:\n",
    "            print('Transform Worsens Metric')\n",
    "            break\n",
    "    print(f'\\nResampling with \\n {initial_transform.GetParameters()} \\n With MSE of {test}')\n",
    "    moving_image = resample(moving_image, initial_transform)\n",
    "    scans.append(scan_num)\n",
    "    transform_vals.append(initial_transform.GetParameters())\n",
    "    metric_vals.append(test)\n",
    "    io.volwrite(f'H:/data_files_for_grapes/{scan_num}/GREYREG_{scan_num}.tiff', sitk.GetArrayFromImage(moving_image).astype(np.uint8), format = 'tiff')\n",
    "    fixed_image = moving_image\n",
    "    print(f'\\nFixed Volume is Scan {scan_num}')\n",
    "\n",
    "data = {'Scan':scans, 'Tranforms':transform_vals, 'Metric_Value':metric_vals}\n",
    "df = pd.DataFrame(data, columns = ['Scan', 'Transforms', 'Metric_Value'])\n",
    "df.to_csv('registration_transforms.csv')"
   ]
  },
  {
   "cell_type": "markdown",
   "metadata": {},
   "source": [
    "## Filtering (NLM) "
   ]
  },
  {
   "cell_type": "code",
   "execution_count": null,
   "metadata": {},
   "outputs": [],
   "source": [
    "def apply_nlm(image):\n",
    "    img = img_as_float(image) ###load image to be smoothed by NLM.\n",
    "    img = denoise_nl_means(img, h=0.00472*smoothing, fast_mode=True, patch_size=10, patch_distance=15)  \n",
    "    return (img*255).astype(np.uint8)\n",
    "\n",
    "im = io.volread(f'H:/data_files_for_grapes/132037/GREY_132037.tif')[250]\n",
    "\n",
    "filter_bank = []\n",
    "for smoothing in tqdm(range(12)):\n",
    "    smoothed = apply_nlm(im)\n",
    "    filter_bank.append(smoothed)\n",
    "\n",
    "io.volwrite('filter_bank.tiff', np.array(filter_bank), format = 'tiff')"
   ]
  },
  {
   "cell_type": "code",
   "execution_count": null,
   "metadata": {},
   "outputs": [],
   "source": [
    "# Best smoothing factor is 1, this is used in para_nlm.py\n",
    "# run the paralelised nlm in main (para_nlm.py)\n",
    "\n",
    "paranlm()\n",
    "\n",
    "# writes filtered volumes to working directory"
   ]
  },
  {
   "cell_type": "markdown",
   "metadata": {},
   "source": [
    "## Segmentation of Active Material"
   ]
  },
  {
   "cell_type": "code",
   "execution_count": null,
   "metadata": {},
   "outputs": [],
   "source": [
    "# create segmentation of active material from the smoothed dataset \n",
    "for scan_num in tqdm(range(132037,132048,1)):\n",
    "    vol1 = io.volread(f'H:/data_files_for_grapes/{scan_num}/NLM_{scan_num}.tiff')\n",
    "    vol2 = np.where(vol1 >= 106, 1, 0)\n",
    "    vol2 = erosion(dilation(vol2, cube(3)), cube(3))\n",
    "    vol2 = dilation(erosion(vol2, cube(3)), cube(3))\n",
    "    vol2 = np.where(vol1*vol2 >= 104, 1, 0)\n",
    "    for i in range(vol2.shape[0]):\n",
    "        vol2[i] = remove_small_holes(vol2[i], 2000).astype(np.uint8)\n",
    "    io.volwrite(f'H:/data_files_for_grapes/{scan_num}/SEG_{scan_num}.tiff', vol2.astype(np.uint8), format = 'tiff')"
   ]
  },
  {
   "cell_type": "code",
   "execution_count": null,
   "metadata": {},
   "outputs": [],
   "source": [
    "# cropping everything so same shape and to remove pads from registration step\n",
    "for vol_type in ['GREYREG','NLM','SEG']:\n",
    "    for scan_num in tqdm(range(132037,132048,1)):\n",
    "        volume = io.volread(f'H:/data_files_for_grapes/{scan_num}/{vol_type}_{scan_num}.tiff')\n",
    "        if volume.shape == (456, 1339, 498):\n",
    "            volume = volume[10:-10,:-1,:-1]\n",
    "            io.volwrite(f'H:/data_files_for_grapes/{scan_num}/{vol_type}_{scan_num}.tiff', volume, format = 'tiff')\n",
    "        else:\n",
    "            volume = volume[10:-9,:,:]\n",
    "            io.volwrite(f'H:/data_files_for_grapes/{scan_num}/{vol_type}_{scan_num}.tiff', volume, format = 'tiff')"
   ]
  },
  {
   "cell_type": "markdown",
   "metadata": {},
   "source": [
    "## Instance Segmentation (labeling) of Particles using a marker based watershed"
   ]
  },
  {
   "cell_type": "code",
   "execution_count": null,
   "metadata": {},
   "outputs": [],
   "source": [
    "volume = io.volread(f'H:/data_files_for_grapes/132037/SEG_132037.tiff')\n",
    "dist = dist_trans(volume)\n",
    "dist_blur = gaussian(dist, sigma=1.3, preserve_range = True)\n",
    "dist_blur = np.where(volume == 0, 0, dist_blur)\n",
    "io.volwrite(f'H:/data_files_for_grapes/132037/DIST_132037.tiff', dist_blur.astype(np.uint8), format = 'tiff')\n",
    "coords = peak_local_max(dist_blur, footprint=np.ones((9, 9, 9)), labels=volume)\n",
    "mask = np.zeros(volume.shape, dtype=bool)\n",
    "mask[tuple(coords.T)] = True\n",
    "markers, _ = nd.label(mask)\n",
    "labels = watershed(-dist_blur, markers, mask=volume)\n",
    "io.volwrite(f'H:/data_files_for_grapes/132037/LABEL_132037.tiff', labels.astype(np.uint16), format = 'tiff')"
   ]
  },
  {
   "cell_type": "code",
   "execution_count": null,
   "metadata": {},
   "outputs": [],
   "source": [
    "for scan_num in tqdm(range(132038,132048,1)):\n",
    "    volume = io.volread(f'H:/data_files_for_grapes/{scan_num}/SEG_{scan_num}.tiff')\n",
    "    dist = dist_trans(volume)\n",
    "    dist_blur = gaussian(dist, sigma=1.3, preserve_range = True)\n",
    "    dist_blur = np.where(volume == 0, 0, dist_blur)\n",
    "    labels = watershed(-dist_blur, markers, mask=volume)\n",
    "    io.volwrite(f'H:/data_files_for_grapes/{scan_num}/LABEL_{scan_num}.tiff', labels.astype(np.uint16), format = 'tiff')"
   ]
  },
  {
   "cell_type": "markdown",
   "metadata": {},
   "source": [
    "## GRAPES analysis"
   ]
  },
  {
   "cell_type": "code",
   "execution_count": 2,
   "metadata": {},
   "outputs": [],
   "source": [
    "labels_array = io.volread('H:/data_files_for_grapes/132037/LABEL_132037.tiff')\n",
    "grey_array = io.volread('H:/data_files_for_grapes/132037/GREYREG_132037.tiff')"
   ]
  },
  {
   "cell_type": "code",
   "execution_count": 3,
   "metadata": {},
   "outputs": [
    {
     "data": {
      "text/html": [
       "<div>\n",
       "<style scoped>\n",
       "    .dataframe tbody tr th:only-of-type {\n",
       "        vertical-align: middle;\n",
       "    }\n",
       "\n",
       "    .dataframe tbody tr th {\n",
       "        vertical-align: top;\n",
       "    }\n",
       "\n",
       "    .dataframe thead th {\n",
       "        text-align: right;\n",
       "    }\n",
       "</style>\n",
       "<table border=\"1\" class=\"dataframe\">\n",
       "  <thead>\n",
       "    <tr style=\"text-align: right;\">\n",
       "      <th></th>\n",
       "      <th>label</th>\n",
       "      <th>volume</th>\n",
       "      <th>centroid-0</th>\n",
       "      <th>centroid-1</th>\n",
       "      <th>centroid-2</th>\n",
       "      <th>axis_major_length</th>\n",
       "      <th>equivalent_diameter_volume</th>\n",
       "      <th>intensity_max</th>\n",
       "      <th>intensity_mean</th>\n",
       "      <th>intensity_min</th>\n",
       "      <th>image</th>\n",
       "      <th>image_intensity</th>\n",
       "      <th>GRAPES_RP</th>\n",
       "      <th>GRAPES_GL</th>\n",
       "      <th>GRAPES_GL_NORMED</th>\n",
       "    </tr>\n",
       "  </thead>\n",
       "  <tbody>\n",
       "    <tr>\n",
       "      <th>0</th>\n",
       "      <td>1</td>\n",
       "      <td>34.0</td>\n",
       "      <td>0.500000</td>\n",
       "      <td>0.941176</td>\n",
       "      <td>307.647059</td>\n",
       "      <td>7.363004</td>\n",
       "      <td>4.019390</td>\n",
       "      <td>116.0</td>\n",
       "      <td>111.500000</td>\n",
       "      <td>107.0</td>\n",
       "      <td>[[[True, True, True, True, True, True], [True,...</td>\n",
       "      <td>[[[109, 112, 113, 115, 114, 112], [110, 112, 1...</td>\n",
       "      <td>[]</td>\n",
       "      <td>[]</td>\n",
       "      <td>[]</td>\n",
       "    </tr>\n",
       "    <tr>\n",
       "      <th>1</th>\n",
       "      <td>2</td>\n",
       "      <td>15534.0</td>\n",
       "      <td>8.229110</td>\n",
       "      <td>13.141882</td>\n",
       "      <td>151.679349</td>\n",
       "      <td>39.462774</td>\n",
       "      <td>30.957192</td>\n",
       "      <td>122.0</td>\n",
       "      <td>111.721450</td>\n",
       "      <td>102.0</td>\n",
       "      <td>[[[False, False, False, False, True, True, Tru...</td>\n",
       "      <td>[[[0, 0, 0, 0, 110, 113, 116, 113, 114, 113, 1...</td>\n",
       "      <td>[1, 2, 3, 4, 5, 6, 7, 8, 9, 10]</td>\n",
       "      <td>[110.26593521421108, 112.74286759326993, 112.7...</td>\n",
       "      <td>[0.97743505, 0.99939144, 0.99928087, 1.0, 0.99...</td>\n",
       "    </tr>\n",
       "    <tr>\n",
       "      <th>2</th>\n",
       "      <td>3</td>\n",
       "      <td>2362.0</td>\n",
       "      <td>3.404318</td>\n",
       "      <td>14.279424</td>\n",
       "      <td>110.723116</td>\n",
       "      <td>23.892317</td>\n",
       "      <td>16.523185</td>\n",
       "      <td>121.0</td>\n",
       "      <td>112.374682</td>\n",
       "      <td>104.0</td>\n",
       "      <td>[[[False, False, False, False, False, False, F...</td>\n",
       "      <td>[[[0, 0, 0, 0, 0, 0, 0, 0, 107, 108, 110, 113,...</td>\n",
       "      <td>[1, 2, 3, 4]</td>\n",
       "      <td>[110.35911602209944, 113.68506493506493, 114.2...</td>\n",
       "      <td>[0.961352, 0.99032474, 0.99555063, 1.0]</td>\n",
       "    </tr>\n",
       "    <tr>\n",
       "      <th>3</th>\n",
       "      <td>4</td>\n",
       "      <td>948.0</td>\n",
       "      <td>1.667722</td>\n",
       "      <td>40.470464</td>\n",
       "      <td>329.252110</td>\n",
       "      <td>18.686694</td>\n",
       "      <td>12.188116</td>\n",
       "      <td>120.0</td>\n",
       "      <td>112.637131</td>\n",
       "      <td>106.0</td>\n",
       "      <td>[[[False, False, False, False, False, False, F...</td>\n",
       "      <td>[[[0, 0, 0, 0, 0, 0, 0, 111, 113, 112, 112, 0,...</td>\n",
       "      <td>[1, 2]</td>\n",
       "      <td>[111.54416403785488, 114.68951612903226]</td>\n",
       "      <td>[0.97257507, 1.0]</td>\n",
       "    </tr>\n",
       "    <tr>\n",
       "      <th>4</th>\n",
       "      <td>5</td>\n",
       "      <td>345.0</td>\n",
       "      <td>1.321739</td>\n",
       "      <td>42.768116</td>\n",
       "      <td>109.194203</td>\n",
       "      <td>15.640304</td>\n",
       "      <td>8.701754</td>\n",
       "      <td>120.0</td>\n",
       "      <td>111.834783</td>\n",
       "      <td>104.0</td>\n",
       "      <td>[[[False, False, False, False, False, False, T...</td>\n",
       "      <td>[[[0, 0, 0, 0, 0, 0, 111, 111, 113, 113, 0, 0,...</td>\n",
       "      <td>[1]</td>\n",
       "      <td>[111.1985559566787]</td>\n",
       "      <td>[1.0]</td>\n",
       "    </tr>\n",
       "  </tbody>\n",
       "</table>\n",
       "</div>"
      ],
      "text/plain": [
       "   label   volume  centroid-0  centroid-1  centroid-2  axis_major_length  \\\n",
       "0      1     34.0    0.500000    0.941176  307.647059           7.363004   \n",
       "1      2  15534.0    8.229110   13.141882  151.679349          39.462774   \n",
       "2      3   2362.0    3.404318   14.279424  110.723116          23.892317   \n",
       "3      4    948.0    1.667722   40.470464  329.252110          18.686694   \n",
       "4      5    345.0    1.321739   42.768116  109.194203          15.640304   \n",
       "\n",
       "   equivalent_diameter_volume  intensity_max  intensity_mean  intensity_min  \\\n",
       "0                    4.019390          116.0      111.500000          107.0   \n",
       "1                   30.957192          122.0      111.721450          102.0   \n",
       "2                   16.523185          121.0      112.374682          104.0   \n",
       "3                   12.188116          120.0      112.637131          106.0   \n",
       "4                    8.701754          120.0      111.834783          104.0   \n",
       "\n",
       "                                               image  \\\n",
       "0  [[[True, True, True, True, True, True], [True,...   \n",
       "1  [[[False, False, False, False, True, True, Tru...   \n",
       "2  [[[False, False, False, False, False, False, F...   \n",
       "3  [[[False, False, False, False, False, False, F...   \n",
       "4  [[[False, False, False, False, False, False, T...   \n",
       "\n",
       "                                     image_intensity  \\\n",
       "0  [[[109, 112, 113, 115, 114, 112], [110, 112, 1...   \n",
       "1  [[[0, 0, 0, 0, 110, 113, 116, 113, 114, 113, 1...   \n",
       "2  [[[0, 0, 0, 0, 0, 0, 0, 0, 107, 108, 110, 113,...   \n",
       "3  [[[0, 0, 0, 0, 0, 0, 0, 111, 113, 112, 112, 0,...   \n",
       "4  [[[0, 0, 0, 0, 0, 0, 111, 111, 113, 113, 0, 0,...   \n",
       "\n",
       "                         GRAPES_RP  \\\n",
       "0                               []   \n",
       "1  [1, 2, 3, 4, 5, 6, 7, 8, 9, 10]   \n",
       "2                     [1, 2, 3, 4]   \n",
       "3                           [1, 2]   \n",
       "4                              [1]   \n",
       "\n",
       "                                           GRAPES_GL  \\\n",
       "0                                                 []   \n",
       "1  [110.26593521421108, 112.74286759326993, 112.7...   \n",
       "2  [110.35911602209944, 113.68506493506493, 114.2...   \n",
       "3           [111.54416403785488, 114.68951612903226]   \n",
       "4                                [111.1985559566787]   \n",
       "\n",
       "                                    GRAPES_GL_NORMED  \n",
       "0                                                 []  \n",
       "1  [0.97743505, 0.99939144, 0.99928087, 1.0, 0.99...  \n",
       "2            [0.961352, 0.99032474, 0.99555063, 1.0]  \n",
       "3                                  [0.97257507, 1.0]  \n",
       "4                                              [1.0]  "
      ]
     },
     "execution_count": 3,
     "metadata": {},
     "output_type": "execute_result"
    }
   ],
   "source": [
    "grapes_analysis = GRAPES(labels_array, grey_array, normalised_by = 'radial_max')\n",
    "grapes_analysis.head()"
   ]
  },
  {
   "cell_type": "code",
   "execution_count": 9,
   "metadata": {},
   "outputs": [
    {
     "name": "stdout",
     "output_type": "stream",
     "text": [
      "9754    9755\n",
      "Name: label, dtype: int32\n"
     ]
    }
   ],
   "source": [
    "#find the largest particle, a.k.a. the chonker\n",
    "chonk = grapes_analysis[grapes_analysis['volume'] == grapes_analysis['volume'].max()]\n",
    "print(chonk['label'])"
   ]
  },
  {
   "cell_type": "code",
   "execution_count": 25,
   "metadata": {},
   "outputs": [
    {
     "data": {
      "image/png": "[encoded data removed]",
      "text/plain": [
       "<Figure size 640x480 with 1 Axes>"
      ]
     },
     "metadata": {},
     "output_type": "display_data"
    }
   ],
   "source": [
    "plt.imshow((np.round(dist_trans(np.pad(grapes_analysis['image'][9754], 1))))[27], cmap = 'viridis')\n",
    "plt.title('GRAPES Radial Layers - Particle Chonk')\n",
    "plt.show()"
   ]
  }
 ],
 "metadata": {
  "kernelspec": {
   "display_name": "base",
   "language": "python",
   "name": "python3"
  },
  "language_info": {
   "codemirror_mode": {
    "name": "ipython",
    "version": 3
   },
   "file_extension": ".py",
   "mimetype": "text/x-python",
   "name": "python",
   "nbconvert_exporter": "python",
   "pygments_lexer": "ipython3",
   "version": "3.8.5"
  },
  "orig_nbformat": 4
 },
 "nbformat": 4,
 "nbformat_minor": 2
}
