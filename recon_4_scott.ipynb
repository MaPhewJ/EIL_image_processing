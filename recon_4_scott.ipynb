{
 "cells": [
  {
   "cell_type": "code",
   "execution_count": null,
   "metadata": {},
   "outputs": [],
   "source": [
    "#libraries\n",
    "import numpy as np\n",
    "import imageio.v2 as io\n",
    "import os\n",
    "from tomopy.prep.normalize import normalize as flat_dark\n",
    "from tomopy.recon.algorithm import recon\n",
    "from tomopy.recon.rotation import write_center as c_o_r"
   ]
  },
  {
   "cell_type": "markdown",
   "metadata": {},
   "source": [
    "#### Step 1 - Nomalise the projections with darks and flats"
   ]
  },
  {
   "cell_type": "code",
   "execution_count": null,
   "metadata": {},
   "outputs": [],
   "source": [
    "# load projection data from tiffs in folder\n",
    "path = 'D:/21_ILL_SP_before_15mm_15s/Proj'\n",
    "proj_arr = []\n",
    "for i in os.listdir(path):\n",
    "    proj = io.imread(path+'/'+i)\n",
    "    proj_arr.append(proj)\n",
    "proj_arr = np.array(proj_arr)\n",
    "\n",
    "amiin = np.sqrt(np.amin(proj_arr)**2)\n",
    "mean = np.mean((proj_arr+amiin))\n",
    "std = np.std(proj_arr+amiin)\n",
    "maax = mean + 5*std\n",
    "miin = mean - 5*std\n",
    "proj_arr_8 = []\n",
    "for k in range(proj.shape[0]): #reslice so that vertically sliced \n",
    "    im = ((vol[k]+amiin)/(maax)) #convert to 8bit\n",
    "    im = np.where(im < (miin/maax), 0, im)\n",
    "    im = np.where(im > 1, 1, im)*255\n",
    "    im = im - ((mean/maax)*225 - 127.5)\n",
    "    proj_arr_8.append((im).astype(np.uint8))\n",
    "proj_arr_8 = np.array(proj_arr_8)\n",
    "\n",
    "io.volwrite('8bit_proj.tiff', proj_arr_8, format='tiff', bigtiff=True)"
   ]
  },
  {
   "cell_type": "code",
   "execution_count": null,
   "metadata": {},
   "outputs": [],
   "source": [
    "# load flat and dark\n",
    "path_f = 'D:/20_flats_15mmPinhole_15s'\n",
    "flat_arr = []\n",
    "for i in os.listdir(path_f):\n",
    "    f = io.imread(path_f+'/'+i)\n",
    "    flat_arr.append(f)\n",
    "flat_arr = np.array(flat_arr)\n",
    "#for k in range(flat_arr.shape[0]):\n",
    "#    im = im + flat_arr[k]\n",
    "#flat = im / flat_arr.shape[0]\n",
    "\n",
    "\n",
    "path_d = 'D:/22_darks_15mm_15s'\n",
    "dark_arr = []\n",
    "for l in os.listdir(path_d):\n",
    "    d = io.imread(path_d+'/'+l)\n",
    "    dark_arr.append(d)\n",
    "dark_arr = np.array(dark_arr)\n",
    "#for m in range(dark_arr.shape[0]):\n",
    "#    im = im + dark_arr[k]\n",
    "#dark = im / dark_arr.shape[0]"
   ]
  },
  {
   "cell_type": "code",
   "execution_count": null,
   "metadata": {},
   "outputs": [],
   "source": [
    "# apply normalisation and save to disk\n",
    "proj_arr = flat_dark(proj_arr, flat_arr, dark_arr, averaging='mean')\n",
    "io.volwrite('normed_proj.tiff', proj_arr, format='tiff', bigtiff=True)"
   ]
  },
  {
   "cell_type": "markdown",
   "metadata": {},
   "source": [
    "### Step 2 - Define array of acquisition angles for each projection "
   ]
  },
  {
   "cell_type": "code",
   "execution_count": null,
   "metadata": {},
   "outputs": [],
   "source": [
    "angle = 0 \n",
    "angles = []\n",
    "for j in range(1216):\n",
    "    angles.append(angle)\n",
    "    angle += (360/1215)\n",
    "angles = np.array(angles)\n",
    "angles = angles * (np.pi/180)"
   ]
  },
  {
   "cell_type": "markdown",
   "metadata": {},
   "source": [
    "### Step 3 - Find the Centre of Roatation for the reconstruction "
   ]
  },
  {
   "cell_type": "code",
   "execution_count": null,
   "metadata": {},
   "outputs": [],
   "source": [
    "c_o_r(proj_arr, angles, cen_range = [(int(proj_arr.shape[0]/2)-50), (int(proj_arr.shape[0]/2)+50), 5], algorithm = 'fbp', filter_name = 'ramlak')\n",
    "# Then load data into image viwer and see which centre of rotation is the best and choose best value\n",
    "centre = 750"
   ]
  },
  {
   "cell_type": "markdown",
   "metadata": {},
   "source": [
    "### Step 4 - Reconstruct the projections"
   ]
  },
  {
   "cell_type": "code",
   "execution_count": null,
   "metadata": {},
   "outputs": [],
   "source": [
    "recon_vol = recon(proj_arr, angles, center = centre, algorithm = 'fbp', filter_name = 'ramlak')\n",
    "io.volwrite('recon.tiff', recon_vol, format='tiff', bigtiff=True)"
   ]
  }
 ],
 "metadata": {
  "kernelspec": {
   "display_name": "base",
   "language": "python",
   "name": "python3"
  },
  "language_info": {
   "codemirror_mode": {
    "name": "ipython",
    "version": 3
   },
   "file_extension": ".py",
   "mimetype": "text/x-python",
   "name": "python",
   "nbconvert_exporter": "python",
   "pygments_lexer": "ipython3",
   "version": "3.10.12"
  },
  "orig_nbformat": 4
 },
 "nbformat": 4,
 "nbformat_minor": 2
}
